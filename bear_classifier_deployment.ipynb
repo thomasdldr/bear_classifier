{
  "nbformat": 4,
  "nbformat_minor": 0,
  "metadata": {
    "colab": {
      "name": "bear_classifier_deployment.ipynb",
      "provenance": []
    },
    "kernelspec": {
      "name": "python3",
      "display_name": "Python 3"
    },
    "language_info": {
      "name": "python"
    },
    "widgets": {
      "application/vnd.jupyter.widget-state+json": {
        "f92f8845268a45c7b05fd30690ad3ab4": {
          "model_module": "@jupyter-widgets/controls",
          "model_name": "VBoxModel",
          "model_module_version": "1.5.0",
          "state": {
            "_view_name": "VBoxView",
            "_dom_classes": [],
            "_model_name": "VBoxModel",
            "_view_module": "@jupyter-widgets/controls",
            "_model_module_version": "1.5.0",
            "_view_count": null,
            "_view_module_version": "1.5.0",
            "box_style": "",
            "layout": "IPY_MODEL_9dc6c7270ac9404c963694858553e7ee",
            "_model_module": "@jupyter-widgets/controls",
            "children": [
              "IPY_MODEL_015a998724f8410fa187a5b0012ef736",
              "IPY_MODEL_62036ead63e64f32a7f1b40b39338243",
              "IPY_MODEL_4a7b1b3d8ced48f1a3ad71c495b1778d",
              "IPY_MODEL_40a1eb8c2d14485ca6c705a89a7f5652"
            ]
          }
        },
        "9dc6c7270ac9404c963694858553e7ee": {
          "model_module": "@jupyter-widgets/base",
          "model_name": "LayoutModel",
          "model_module_version": "1.2.0",
          "state": {
            "_view_name": "LayoutView",
            "grid_template_rows": null,
            "right": null,
            "justify_content": null,
            "_view_module": "@jupyter-widgets/base",
            "overflow": null,
            "_model_module_version": "1.2.0",
            "_view_count": null,
            "flex_flow": null,
            "width": null,
            "min_width": null,
            "border": null,
            "align_items": null,
            "bottom": null,
            "_model_module": "@jupyter-widgets/base",
            "top": null,
            "grid_column": null,
            "overflow_y": null,
            "overflow_x": null,
            "grid_auto_flow": null,
            "grid_area": null,
            "grid_template_columns": null,
            "flex": null,
            "_model_name": "LayoutModel",
            "justify_items": null,
            "grid_row": null,
            "max_height": null,
            "align_content": null,
            "visibility": null,
            "align_self": null,
            "height": null,
            "min_height": null,
            "padding": null,
            "grid_auto_rows": null,
            "grid_gap": null,
            "max_width": null,
            "order": null,
            "_view_module_version": "1.2.0",
            "grid_template_areas": null,
            "object_position": null,
            "object_fit": null,
            "grid_auto_columns": null,
            "margin": null,
            "display": null,
            "left": null
          }
        },
        "015a998724f8410fa187a5b0012ef736": {
          "model_module": "@jupyter-widgets/controls",
          "model_name": "LabelModel",
          "model_module_version": "1.5.0",
          "state": {
            "_view_name": "LabelView",
            "style": "IPY_MODEL_2c974e2d7fe54474936bbd3020760b13",
            "_dom_classes": [],
            "description": "",
            "_model_name": "LabelModel",
            "placeholder": "​",
            "_view_module": "@jupyter-widgets/controls",
            "_model_module_version": "1.5.0",
            "value": "Select your bear!",
            "_view_count": null,
            "_view_module_version": "1.5.0",
            "description_tooltip": null,
            "_model_module": "@jupyter-widgets/controls",
            "layout": "IPY_MODEL_a12fa75ba1c943fabc41495f0c14fdc9"
          }
        },
        "62036ead63e64f32a7f1b40b39338243": {
          "model_module": "@jupyter-widgets/controls",
          "model_name": "FileUploadModel",
          "model_module_version": "1.5.0",
          "state": {
            "_view_name": "FileUploadView",
            "_counter": 1,
            "style": "IPY_MODEL_b0eb91c9ea084288b5e183f872896125",
            "_dom_classes": [],
            "description": "Upload",
            "multiple": false,
            "_model_name": "FileUploadModel",
            "data": [
              null
            ],
            "button_style": "",
            "_view_module": "@jupyter-widgets/controls",
            "_model_module_version": "1.5.0",
            "accept": "",
            "_view_count": null,
            "disabled": false,
            "_view_module_version": "1.5.0",
            "error": "",
            "description_tooltip": null,
            "metadata": [
              {
                "name": "Capture.png",
                "type": "image/png",
                "size": 88524,
                "lastModified": 1639413550671
              }
            ],
            "_model_module": "@jupyter-widgets/controls",
            "layout": "IPY_MODEL_d8fcf6431d1546a2b60166adafbd52ba",
            "icon": "upload"
          }
        },
        "4a7b1b3d8ced48f1a3ad71c495b1778d": {
          "model_module": "@jupyter-widgets/output",
          "model_name": "OutputModel",
          "model_module_version": "1.0.0",
          "state": {
            "_view_name": "OutputView",
            "msg_id": "",
            "_dom_classes": [],
            "_model_name": "OutputModel",
            "outputs": [
              {
                "output_type": "display_data",
                "data": {
                  "image/png": "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\n",
                  "text/plain": "<PIL.Image.Image image mode=RGB size=112x128 at 0x7F2579FED8D0>"
                },
                "metadata": {}
              }
            ],
            "_view_module": "@jupyter-widgets/output",
            "_model_module_version": "1.0.0",
            "_view_count": null,
            "_view_module_version": "1.0.0",
            "layout": "IPY_MODEL_14cf0555e89d4114824a99c22dd69ab9",
            "_model_module": "@jupyter-widgets/output"
          }
        },
        "40a1eb8c2d14485ca6c705a89a7f5652": {
          "model_module": "@jupyter-widgets/controls",
          "model_name": "LabelModel",
          "model_module_version": "1.5.0",
          "state": {
            "_view_name": "LabelView",
            "style": "IPY_MODEL_70b0f2b1512f40f08b8458d03ead2009",
            "_dom_classes": [],
            "description": "",
            "_model_name": "LabelModel",
            "placeholder": "​",
            "_view_module": "@jupyter-widgets/controls",
            "_model_module_version": "1.5.0",
            "value": "Prediction: grizzly; Probability: 0.9998",
            "_view_count": null,
            "_view_module_version": "1.5.0",
            "description_tooltip": null,
            "_model_module": "@jupyter-widgets/controls",
            "layout": "IPY_MODEL_2bc356e2bfe94a7b99122727eaa3779d"
          }
        },
        "2c974e2d7fe54474936bbd3020760b13": {
          "model_module": "@jupyter-widgets/controls",
          "model_name": "DescriptionStyleModel",
          "model_module_version": "1.5.0",
          "state": {
            "_view_name": "StyleView",
            "_model_name": "DescriptionStyleModel",
            "description_width": "",
            "_view_module": "@jupyter-widgets/base",
            "_model_module_version": "1.5.0",
            "_view_count": null,
            "_view_module_version": "1.2.0",
            "_model_module": "@jupyter-widgets/controls"
          }
        },
        "a12fa75ba1c943fabc41495f0c14fdc9": {
          "model_module": "@jupyter-widgets/base",
          "model_name": "LayoutModel",
          "model_module_version": "1.2.0",
          "state": {
            "_view_name": "LayoutView",
            "grid_template_rows": null,
            "right": null,
            "justify_content": null,
            "_view_module": "@jupyter-widgets/base",
            "overflow": null,
            "_model_module_version": "1.2.0",
            "_view_count": null,
            "flex_flow": null,
            "width": null,
            "min_width": null,
            "border": null,
            "align_items": null,
            "bottom": null,
            "_model_module": "@jupyter-widgets/base",
            "top": null,
            "grid_column": null,
            "overflow_y": null,
            "overflow_x": null,
            "grid_auto_flow": null,
            "grid_area": null,
            "grid_template_columns": null,
            "flex": null,
            "_model_name": "LayoutModel",
            "justify_items": null,
            "grid_row": null,
            "max_height": null,
            "align_content": null,
            "visibility": null,
            "align_self": null,
            "height": null,
            "min_height": null,
            "padding": null,
            "grid_auto_rows": null,
            "grid_gap": null,
            "max_width": null,
            "order": null,
            "_view_module_version": "1.2.0",
            "grid_template_areas": null,
            "object_position": null,
            "object_fit": null,
            "grid_auto_columns": null,
            "margin": null,
            "display": null,
            "left": null
          }
        },
        "b0eb91c9ea084288b5e183f872896125": {
          "model_module": "@jupyter-widgets/controls",
          "model_name": "ButtonStyleModel",
          "model_module_version": "1.5.0",
          "state": {
            "_view_name": "StyleView",
            "_model_name": "ButtonStyleModel",
            "_view_module": "@jupyter-widgets/base",
            "_model_module_version": "1.5.0",
            "_view_count": null,
            "button_color": null,
            "font_weight": "",
            "_view_module_version": "1.2.0",
            "_model_module": "@jupyter-widgets/controls"
          }
        },
        "d8fcf6431d1546a2b60166adafbd52ba": {
          "model_module": "@jupyter-widgets/base",
          "model_name": "LayoutModel",
          "model_module_version": "1.2.0",
          "state": {
            "_view_name": "LayoutView",
            "grid_template_rows": null,
            "right": null,
            "justify_content": null,
            "_view_module": "@jupyter-widgets/base",
            "overflow": null,
            "_model_module_version": "1.2.0",
            "_view_count": null,
            "flex_flow": null,
            "width": null,
            "min_width": null,
            "border": null,
            "align_items": null,
            "bottom": null,
            "_model_module": "@jupyter-widgets/base",
            "top": null,
            "grid_column": null,
            "overflow_y": null,
            "overflow_x": null,
            "grid_auto_flow": null,
            "grid_area": null,
            "grid_template_columns": null,
            "flex": null,
            "_model_name": "LayoutModel",
            "justify_items": null,
            "grid_row": null,
            "max_height": null,
            "align_content": null,
            "visibility": null,
            "align_self": null,
            "height": null,
            "min_height": null,
            "padding": null,
            "grid_auto_rows": null,
            "grid_gap": null,
            "max_width": null,
            "order": null,
            "_view_module_version": "1.2.0",
            "grid_template_areas": null,
            "object_position": null,
            "object_fit": null,
            "grid_auto_columns": null,
            "margin": null,
            "display": null,
            "left": null
          }
        },
        "70b0f2b1512f40f08b8458d03ead2009": {
          "model_module": "@jupyter-widgets/controls",
          "model_name": "DescriptionStyleModel",
          "model_module_version": "1.5.0",
          "state": {
            "_view_name": "StyleView",
            "_model_name": "DescriptionStyleModel",
            "description_width": "",
            "_view_module": "@jupyter-widgets/base",
            "_model_module_version": "1.5.0",
            "_view_count": null,
            "_view_module_version": "1.2.0",
            "_model_module": "@jupyter-widgets/controls"
          }
        },
        "2bc356e2bfe94a7b99122727eaa3779d": {
          "model_module": "@jupyter-widgets/base",
          "model_name": "LayoutModel",
          "model_module_version": "1.2.0",
          "state": {
            "_view_name": "LayoutView",
            "grid_template_rows": null,
            "right": null,
            "justify_content": null,
            "_view_module": "@jupyter-widgets/base",
            "overflow": null,
            "_model_module_version": "1.2.0",
            "_view_count": null,
            "flex_flow": null,
            "width": null,
            "min_width": null,
            "border": null,
            "align_items": null,
            "bottom": null,
            "_model_module": "@jupyter-widgets/base",
            "top": null,
            "grid_column": null,
            "overflow_y": null,
            "overflow_x": null,
            "grid_auto_flow": null,
            "grid_area": null,
            "grid_template_columns": null,
            "flex": null,
            "_model_name": "LayoutModel",
            "justify_items": null,
            "grid_row": null,
            "max_height": null,
            "align_content": null,
            "visibility": null,
            "align_self": null,
            "height": null,
            "min_height": null,
            "padding": null,
            "grid_auto_rows": null,
            "grid_gap": null,
            "max_width": null,
            "order": null,
            "_view_module_version": "1.2.0",
            "grid_template_areas": null,
            "object_position": null,
            "object_fit": null,
            "grid_auto_columns": null,
            "margin": null,
            "display": null,
            "left": null
          }
        },
        "14cf0555e89d4114824a99c22dd69ab9": {
          "model_module": "@jupyter-widgets/base",
          "model_name": "LayoutModel",
          "model_module_version": "1.2.0",
          "state": {
            "_view_name": "LayoutView",
            "grid_template_rows": null,
            "right": null,
            "justify_content": null,
            "_view_module": "@jupyter-widgets/base",
            "overflow": null,
            "_model_module_version": "1.2.0",
            "_view_count": null,
            "flex_flow": null,
            "width": null,
            "min_width": null,
            "border": null,
            "align_items": null,
            "bottom": null,
            "_model_module": "@jupyter-widgets/base",
            "top": null,
            "grid_column": null,
            "overflow_y": null,
            "overflow_x": null,
            "grid_auto_flow": null,
            "grid_area": null,
            "grid_template_columns": null,
            "flex": null,
            "_model_name": "LayoutModel",
            "justify_items": null,
            "grid_row": null,
            "max_height": null,
            "align_content": null,
            "visibility": null,
            "align_self": null,
            "height": null,
            "min_height": null,
            "padding": null,
            "grid_auto_rows": null,
            "grid_gap": null,
            "max_width": null,
            "order": null,
            "_view_module_version": "1.2.0",
            "grid_template_areas": null,
            "object_position": null,
            "object_fit": null,
            "grid_auto_columns": null,
            "margin": null,
            "display": null,
            "left": null
          }
        }
      }
    }
  },
  "cells": [
    {
      "cell_type": "code",
      "execution_count": null,
      "metadata": {
        "id": "onqmqWQCVFcv"
      },
      "outputs": [],
      "source": [
        "from fastai.vision.all import *\n",
        "from fastai.vision.widgets import *"
      ]
    },
    {
      "cell_type": "code",
      "source": [
        "path = Path()\n",
        "learn_inf = load_learner(path/'export.pkl', cpu=True)\n",
        "btn_upload = widgets.FileUpload()\n",
        "out_pl = widgets.Output()\n",
        "lbl_pred = widgets.Label()"
      ],
      "metadata": {
        "id": "sR83LEmLVSiR"
      },
      "execution_count": null,
      "outputs": []
    },
    {
      "cell_type": "code",
      "source": [
        "!ls"
      ],
      "metadata": {
        "colab": {
          "base_uri": "https://localhost:8080/"
        },
        "id": "Fkd8HYEIYHZV",
        "outputId": "1c950172-ec27-44d5-bb79-ee88a7213da5"
      },
      "execution_count": null,
      "outputs": [
        {
          "output_type": "stream",
          "name": "stdout",
          "text": [
            "export.pkl  sample_data\n"
          ]
        }
      ]
    },
    {
      "cell_type": "code",
      "source": [
        "def on_data_change(change):\n",
        "    lbl_pred.value = ''\n",
        "    img = PILImage.create(btn_upload.data[-1])\n",
        "    out_pl.clear_output()\n",
        "    with out_pl: display(img.to_thumb(128,128))\n",
        "    pred,pred_idx,probs = learn_inf.predict(img)\n",
        "    lbl_pred.value = f'Prediction: {pred}; Probability: {probs[pred_idx]:.04f}'"
      ],
      "metadata": {
        "id": "4y1KB2HrVUXf"
      },
      "execution_count": null,
      "outputs": []
    },
    {
      "cell_type": "code",
      "source": [
        "btn_upload.observe(on_data_change, names=['data'])\n"
      ],
      "metadata": {
        "id": "eWCDtCAkVWY-"
      },
      "execution_count": null,
      "outputs": []
    },
    {
      "cell_type": "code",
      "source": [
        "display(VBox([widgets.Label('Select your bear!'), btn_upload, out_pl, lbl_pred]))\n"
      ],
      "metadata": {
        "colab": {
          "base_uri": "https://localhost:8080/",
          "height": 241,
          "referenced_widgets": [
            "f92f8845268a45c7b05fd30690ad3ab4",
            "9dc6c7270ac9404c963694858553e7ee",
            "015a998724f8410fa187a5b0012ef736",
            "62036ead63e64f32a7f1b40b39338243",
            "4a7b1b3d8ced48f1a3ad71c495b1778d",
            "40a1eb8c2d14485ca6c705a89a7f5652",
            "2c974e2d7fe54474936bbd3020760b13",
            "a12fa75ba1c943fabc41495f0c14fdc9",
            "b0eb91c9ea084288b5e183f872896125",
            "d8fcf6431d1546a2b60166adafbd52ba",
            "70b0f2b1512f40f08b8458d03ead2009",
            "2bc356e2bfe94a7b99122727eaa3779d",
            "14cf0555e89d4114824a99c22dd69ab9"
          ]
        },
        "id": "MRYXgkbAVYEu",
        "outputId": "0d6414c7-4594-49ee-df58-52d7a0bd717b"
      },
      "execution_count": null,
      "outputs": [
        {
          "output_type": "display_data",
          "data": {
            "application/vnd.jupyter.widget-view+json": {
              "model_id": "f92f8845268a45c7b05fd30690ad3ab4",
              "version_minor": 0,
              "version_major": 2
            },
            "text/plain": [
              "VBox(children=(Label(value='Select your bear!'), FileUpload(value={}, description='Upload'), Output(), Label(v…"
            ]
          },
          "metadata": {}
        },
        {
          "output_type": "display_data",
          "data": {
            "text/html": [
              ""
            ],
            "text/plain": [
              "<IPython.core.display.HTML object>"
            ]
          },
          "metadata": {}
        }
      ]
    },
    {
      "cell_type": "code",
      "source": [
        ""
      ],
      "metadata": {
        "id": "SkXnqzolVaCp"
      },
      "execution_count": null,
      "outputs": []
    }
  ]
}